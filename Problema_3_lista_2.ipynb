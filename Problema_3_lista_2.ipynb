{
  "nbformat": 4,
  "nbformat_minor": 0,
  "metadata": {
    "colab": {
      "provenance": [],
      "authorship_tag": "ABX9TyPUBsam6h6uIF1cIB9L74UI",
      "include_colab_link": true
    },
    "kernelspec": {
      "name": "python3",
      "display_name": "Python 3"
    },
    "language_info": {
      "name": "python"
    }
  },
  "cells": [
    {
      "cell_type": "markdown",
      "metadata": {
        "id": "view-in-github",
        "colab_type": "text"
      },
      "source": [
        "<a href=\"https://colab.research.google.com/github/jaimefeltrer/programacion/blob/main/Problema_3_lista_2.ipynb\" target=\"_parent\"><img src=\"https://colab.research.google.com/assets/colab-badge.svg\" alt=\"Open In Colab\"/></a>"
      ]
    },
    {
      "cell_type": "code",
      "execution_count": null,
      "metadata": {
        "id": "V4SS0vY1IvaA"
      },
      "outputs": [],
      "source": [
        "# Jaime Feltrer Homar 9/11/22\n",
        "#3. El usuario introduce 6 números enteros. Definimos una lista que contenga dichos\n",
        "#valores en el mismo orden en que se introdujeron.\n",
        "#a. Mostramos por pantalla:\n",
        "#- Cuál  es el valor mínimo, cuántas veces aparece y en qué posición se\n",
        "#encuentra por primera vez.\n",
        "#- Cuál es el valor máximo, cuántas veces aparece y en qué posición se\n",
        "#encuentra por primera vez.\n",
        "#b. Añadimos al final otro elemento con el rango (valor máximo menos valor\n",
        "#mínimo), ordenamos la lista de mayor a menor y eliminamos el primer y\n",
        "#último elemento. Mostramos por pantalla la lista resultante.\n",
        "ne1=int(input(\"Introduce un número entero: \"))\n",
        "ne2=int(input(\"Introduce un número entero: \"))\n",
        "ne3=int(input(\"Introduce un número entero: \"))\n",
        "ne4=int(input(\"Introduce un número entero: \"))\n",
        "ne5=int(input(\"Introduce un número entero: \"))\n",
        "ne6=int(input(\"Introduce un número entero: \"))\n",
        "lista=[ne1,ne2,ne3,ne4,ne5,ne6]\n",
        "print(lista)\n",
        "print(\"El valor míninimo introducido es:\", min(lista))\n",
        "print(\"El valor míninimo aparece:\", lista.count(min(lista)), \"veces.\")\n",
        "print(\"El valor míninimo aparece por primera vez en la posición:\", lista.index(min(lista)))\n",
        "print(\"El valor máximo introducido es:\", max(lista))\n"
      ]
    }
  ]
}